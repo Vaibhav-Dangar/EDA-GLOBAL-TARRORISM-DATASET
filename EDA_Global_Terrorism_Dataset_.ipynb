{
  "nbformat": 4,
  "nbformat_minor": 0,
  "metadata": {
    "colab": {
      "private_outputs": true,
      "provenance": [],
      "collapsed_sections": [
        "t6dVpIINYklI",
        "-JiQyfWJYklI",
        "RoGjAbkUYoAp",
        "Seke61FWphqN",
        "b0JNsNcRphqO",
        "gIfDvo9L0UH2"
      ],
      "include_colab_link": true
    },
    "kernelspec": {
      "name": "python3",
      "display_name": "Python 3"
    },
    "language_info": {
      "name": "python"
    },
    "gpuClass": "standard"
  },
  "cells": [
    {
      "cell_type": "markdown",
      "metadata": {
        "id": "view-in-github",
        "colab_type": "text"
      },
      "source": [
        "<a href=\"https://colab.research.google.com/github/Vaibhav-Dangar/EDA-GLOBAL-TERRORISM-DATASET/blob/main/EDA_Global_Terrorism_Dataset_.ipynb\" target=\"_parent\"><img src=\"https://colab.research.google.com/assets/colab-badge.svg\" alt=\"Open In Colab\"/></a>"
      ]
    },
    {
      "cell_type": "markdown",
      "source": [
        "# **Project Name**    - EDA ON GLOBAL TERRORISM DATASET\n",
        "\n"
      ],
      "metadata": {
        "id": "vncDsAP0Gaoa"
      }
    },
    {
      "cell_type": "markdown",
      "source": [
        "##### **Project Type**    - EDA\n",
        "##### **Contribution**    - Individual\n"
      ],
      "metadata": {
        "id": "beRrZCGUAJYm"
      }
    },
    {
      "cell_type": "markdown",
      "source": [
        "# **Project Summary**\n"
      ],
      "metadata": {
        "id": "FJNUwmbgGyua"
      }
    },
    {
      "cell_type": "markdown",
      "source": [
        "GTD is an open source database including information on terrorist attacks around the world from 1970 through 2017 .Terrorism is a threat of violence that creates fear in a population. We try to find out the hot zone of terrorism and other patterns i.e. includes systematic data on domestic as well as international terrorist incidents that have occurred during specific time period."
      ],
      "metadata": {
        "id": "F6v_1wHtG2nS"
      }
    },
    {
      "cell_type": "markdown",
      "source": [
        "# **Objective**"
      ],
      "metadata": {
        "id": "JjvLg7eF1Ioh"
      }
    },
    {
      "cell_type": "markdown",
      "source": [
        "The primary objective of this project is to explore and analyze the data to understand the patterns and trends of terrorism, such as the locations, frequency, types of attacks, and perpetrators involved. The EDA process involves data cleaning, feature engineering, data visualization, and statistical analysis."
      ],
      "metadata": {
        "id": "AKN_Rs-e1MfG"
      }
    },
    {
      "cell_type": "markdown",
      "source": [
        "# **GitHub Link -**"
      ],
      "metadata": {
        "id": "w6K7xa23Elo4"
      }
    },
    {
      "cell_type": "markdown",
      "source": [
        "https://github.com/Vaibhav-Dangar/EDA-GLOBAL-TERRORISM-DATASET"
      ],
      "metadata": {
        "id": "h1o69JH3Eqqn"
      }
    },
    {
      "cell_type": "markdown",
      "source": [
        "# **General Guidelines** : -  "
      ],
      "metadata": {
        "id": "mDgbUHAGgjLW"
      }
    },
    {
      "cell_type": "markdown",
      "source": [
        "1.   Well-structured, formatted, and commented code is required. \n",
        "2.   Exception Handling, Production Grade Code & Deployment Ready Code will be a plus. Those students will be awarded some additional credits. \n",
        "     \n",
        "     The additional credits will have advantages over other students during Star Student selection.\n",
        "       \n",
        "             [ Note: - Deployment Ready Code is defined as, the whole .ipynb notebook should be executable in one go\n",
        "                       without a single error logged. ]\n",
        "\n",
        "3.   Each and every logic should have proper comments.\n",
        "4. You may add as many number of charts you want. Make Sure for each and every chart the following format should be answered.\n",
        "        \n",
        "\n",
        "```\n",
        "# Chart visualization code\n",
        "```\n",
        "            \n",
        "\n",
        "*   Why did you pick the specific chart?\n",
        "*   What is/are the insight(s) found from the chart?\n",
        "* Will the gained insights help creating a positive business impact? \n",
        "Are there any insights that lead to negative growth? Justify with specific reason.\n",
        "\n",
        "5. You have to create at least 20 logical & meaningful charts having important insights.\n",
        "\n",
        "\n",
        "[ Hints : - Do the Vizualization in  a structured way while following \"UBM\" Rule. \n",
        "\n",
        "U - Univariate Analysis,\n",
        "\n",
        "B - Bivariate Analysis (Numerical - Categorical, Numerical - Numerical, Categorical - Categorical)\n",
        "\n",
        "M - Multivariate Analysis\n",
        " ]\n",
        "\n",
        "\n",
        "\n"
      ],
      "metadata": {
        "id": "ZrxVaUj-hHfC"
      }
    },
    {
      "cell_type": "markdown",
      "source": [
        "# ***Let's Begin !***"
      ],
      "metadata": {
        "id": "O_i_v8NEhb9l"
      }
    },
    {
      "cell_type": "markdown",
      "source": [
        "## ***1. Know Your Data***"
      ],
      "metadata": {
        "id": "HhfV-JJviCcP"
      }
    },
    {
      "cell_type": "markdown",
      "source": [
        "### Import Libraries"
      ],
      "metadata": {
        "id": "Y3lxredqlCYt"
      }
    },
    {
      "cell_type": "code",
      "source": [
        "#import libraries\n",
        "import pandas as pd\n",
        "import numpy as np\n",
        "import matplotlib.pyplot as plt\n",
        "%matplotlib inline\n",
        "# import missingno as msno  This library offers a very nice way to visulize the distribution of NAN Values\n",
        "import missingno as msno\n",
        "import seaborn as sns\n",
        "\n",
        "\n"
      ],
      "metadata": {
        "id": "M8Vqi-pPk-HR"
      },
      "execution_count": null,
      "outputs": []
    },
    {
      "cell_type": "markdown",
      "source": [
        "### Dataset Loading"
      ],
      "metadata": {
        "id": "3RnN4peoiCZX"
      }
    },
    {
      "cell_type": "code",
      "source": [
        "# Load Dataset\n",
        "from google.colab import drive\n",
        "drive.mount('/content/drive',force_remount=True)\n",
        "# filepath = '/content/drive/MyDrive/Global Terrorism Data.csv'\n",
        "df = pd.read_csv('/content/drive/MyDrive/Global Terrorism Data.csv',encoding='ISO-8859-1')\n",
        "\n"
      ],
      "metadata": {
        "id": "4CkvbW_SlZ_R"
      },
      "execution_count": null,
      "outputs": []
    },
    {
      "cell_type": "markdown",
      "source": [
        "### Dataset First View"
      ],
      "metadata": {
        "id": "x71ZqKXriCWQ"
      }
    },
    {
      "cell_type": "code",
      "source": [
        "# Dataset First Look\n",
        "df"
      ],
      "metadata": {
        "id": "LWNFOSvLl09H"
      },
      "execution_count": null,
      "outputs": []
    },
    {
      "cell_type": "markdown",
      "source": [
        "### Dataset Rows & Columns count"
      ],
      "metadata": {
        "id": "7hBIi_osiCS2"
      }
    },
    {
      "cell_type": "code",
      "source": [
        "# Dataset Rows & Columns count\n",
        "rows = len(df.axes[0])\n",
        "cols = len(df.axes[1])\n",
        "print(rows)\n",
        "print(cols)"
      ],
      "metadata": {
        "id": "Kllu7SJgmLij"
      },
      "execution_count": null,
      "outputs": []
    },
    {
      "cell_type": "markdown",
      "source": [
        "### Dataset Information"
      ],
      "metadata": {
        "id": "JlHwYmJAmNHm"
      }
    },
    {
      "cell_type": "code",
      "source": [
        "# Dataset Info\n",
        "df.info()"
      ],
      "metadata": {
        "id": "e9hRXRi6meOf"
      },
      "execution_count": null,
      "outputs": []
    },
    {
      "cell_type": "code",
      "source": [
        "df.describe()"
      ],
      "metadata": {
        "id": "qT_tWRHbeNLE"
      },
      "execution_count": null,
      "outputs": []
    },
    {
      "cell_type": "code",
      "source": [
        "df.shape()"
      ],
      "metadata": {
        "id": "a1LMKTlxYNwR"
      },
      "execution_count": null,
      "outputs": []
    },
    {
      "cell_type": "markdown",
      "source": [
        "#### Duplicate Values"
      ],
      "metadata": {
        "id": "35m5QtbWiB9F"
      }
    },
    {
      "cell_type": "code",
      "source": [
        "# Dataset Duplicate Value Count\n",
        "for column in df:\n",
        "  dups  = df.pivot_table(index = [df[column]],aggfunc = 'size')\n",
        "  print(dups)\n"
      ],
      "metadata": {
        "id": "1sLdpKYkmox0"
      },
      "execution_count": null,
      "outputs": []
    },
    {
      "cell_type": "markdown",
      "source": [
        "#### Missing Values/Null Values"
      ],
      "metadata": {
        "id": "PoPl-ycgm1ru"
      }
    },
    {
      "cell_type": "code",
      "source": [
        "# Missing Values/Null Values Count\n",
        "# for column in df:\n",
        "#   print(df[column].isnull().sum())\n",
        "#  list1 = [\"N/a\",\"na\",\"Unknown\",np.nan]\n",
        "\n",
        "missing_value = [\"N/a\",\"na\",np.nan]\n",
        "df1 = pd.read_csv('/content/drive/MyDrive/Global Terrorism Data.csv',na_values = missing_value,encoding='ISO-8859-1')\n",
        "df1.isnull().sum()\n",
        "\n"
      ],
      "metadata": {
        "id": "GgHWkxvamxVg"
      },
      "execution_count": null,
      "outputs": []
    },
    {
      "cell_type": "code",
      "source": [
        "df['nKill']  = df['nkill'].fillna(0)\n",
        "df['nwound'] = df['nwound'].fillna(0)"
      ],
      "metadata": {
        "id": "NXB1e11sgHZx"
      },
      "execution_count": null,
      "outputs": []
    },
    {
      "cell_type": "code",
      "source": [
        "# Visualizing the missing values\n",
        "msno.bar(df)"
      ],
      "metadata": {
        "id": "3q5wnI3om9sJ"
      },
      "execution_count": null,
      "outputs": []
    },
    {
      "cell_type": "markdown",
      "source": [
        "### What did you know about your dataset?"
      ],
      "metadata": {
        "id": "H0kj-8xxnORC"
      }
    },
    {
      "cell_type": "markdown",
      "source": [
        "GTD is an open source database including information on terrorist attacks around the world from 1970 through 2017 .Terrorism is a threat of violence that creates fear in a population. We try to find out the hot zone of terrorism and other patterns i.e. includes systematic data on domestic as well as international terrorist incidents that have occurred during specific time period,different types terrorist organization carried out attacks in different countries."
      ],
      "metadata": {
        "id": "gfoNAAC-nUe_"
      }
    },
    {
      "cell_type": "markdown",
      "source": [
        "## ***2. Understanding Your Variables***"
      ],
      "metadata": {
        "id": "nA9Y7ga8ng1Z"
      }
    },
    {
      "cell_type": "code",
      "source": [
        "# Dataset Columns\n",
        "list(df.columns.values)"
      ],
      "metadata": {
        "id": "j7xfkqrt5Ag5"
      },
      "execution_count": null,
      "outputs": []
    },
    {
      "cell_type": "code",
      "source": [
        "# Dataset Describe\n",
        "df.describe()"
      ],
      "metadata": {
        "id": "DnOaZdaE5Q5t"
      },
      "execution_count": null,
      "outputs": []
    },
    {
      "cell_type": "markdown",
      "source": [
        "### Variables Description \n",
        "iyear-->This field contains the year in which the incident occurred. \n",
        "\n",
        "country_txt-->This field identifies the country or location where the incident occurred. \n",
        "\n",
        "region_txt-->This field identifies the region in which the incident occurred. \n",
        "\n",
        "city-->This field contains the name of the city, village, or town in which the incident occurred.\n",
        "\n",
        "attacktype2_txt-->This field captures the general method of attack and often reflects the broad class of tactics used. \n",
        "\n",
        "targtype2_txt-->Information on up to three targets/victims is recorded for each incident\n",
        "\n",
        "targsubtype2_txt-->The target subtype variable captures the more specific target category and provides the next level of designation for each target type.\n",
        "\n",
        "target2-->This is the specific person, building, installation, etc., that was targeted\n",
        "\n",
        "natlty2_txt--> This is the nationality of the target that was attacked\n",
        "\n",
        "gname-->This field contains the name of the group that carried out the attack\n",
        "\n",
        "nkill-->This field stores the number of total confirmed fatalities for the incident. The number includes all victims and attackers who died as a direct result of the incident. \n",
        "\n",
        "property-->Categorical Variable\n",
        "“Yes” appears if there is evidence of property damage from the incident.\n",
        "\n",
        "nwound-->This field stores the number of total confirmed wounded people in different incidents\n",
        "\n",
        "weapsubtype2_txt-->Information on up to four types and sub-types of the weapons used in an attack are recorded for each case,\n",
        "\n",
        "propextent_txt-->Categorical Variable\n",
        "If “Property Damage?” is “Yes,” then one of the following four categories describes the extent\n",
        "of the property damage:\n",
        "1 = Catastrophic (likely ≥ $1 billion)\n",
        "2 = Major (likely ≥ $1 million but < $1 billion)\n",
        "3 = Minor (likely < $1 million)\n",
        "4 = Unknown\n",
        "\n",
        "propvalue-->Numeric Variable\n",
        "If “Property Damage?” is “Yes,” then the exact U.S. dollar amount (at the time of the incident)of total damages is listed."
      ],
      "metadata": {
        "id": "PBTbrJXOngz2"
      }
    },
    {
      "cell_type": "markdown",
      "source": [
        "Answer Here"
      ],
      "metadata": {
        "id": "aJV4KIxSnxay"
      }
    },
    {
      "cell_type": "markdown",
      "source": [
        "### Check Unique Values for each variable."
      ],
      "metadata": {
        "id": "u3PMJOP6ngxN"
      }
    },
    {
      "cell_type": "code",
      "source": [
        "# Check Unique Values for each variable.\n",
        "for column in df:\n",
        "  print(column)\n",
        "  print(df[column].unique())\n",
        "  print(df[column].nunique())\n",
        "  print(\" \")"
      ],
      "metadata": {
        "id": "zms12Yq5n-jE"
      },
      "execution_count": null,
      "outputs": []
    },
    {
      "cell_type": "markdown",
      "source": [
        "### **3.Cleaning the data**"
      ],
      "metadata": {
        "id": "dauF4eBmngu3"
      }
    },
    {
      "cell_type": "markdown",
      "source": [
        "### Data Wrangling Code"
      ],
      "metadata": {
        "id": "bKJF3rekwFvQ"
      }
    },
    {
      "cell_type": "code",
      "source": [
        "\n",
        "# getting the requisite columns\n",
        "terrirism_cols = df[['iyear','country_txt','region_txt','city','attacktype2_txt','targtype2_txt','targsubtype2_txt','target2','natlty2_txt','gname','motive','nkill','property','nwound','weapsubtype2_txt','propextent_txt','propvalue']]\n",
        "terrirism_cols.info()"
      ],
      "metadata": {
        "id": "wk-9a2fpoLcV"
      },
      "execution_count": null,
      "outputs": []
    },
    {
      "cell_type": "code",
      "source": [
        "#outlier detection\n",
        "\n",
        "df[['iyear','country_txt','region_txt','city','attacktype2_txt','targtype2_txt','targsubtype2_txt','target2','natlty2_txt','gname','motive','nkill','property','nwound','weapsubtype2_txt','propextent_txt','propvalue']].plot(kind='box')"
      ],
      "metadata": {
        "id": "QkQQ_CJhJ9kN"
      },
      "execution_count": null,
      "outputs": []
    },
    {
      "cell_type": "code",
      "source": [
        "#count the unique values in each columns\n",
        "\n",
        "print(terrirism_cols.propvalue.nunique())\n",
        "terrirism_cols.country_txt.nunique()"
      ],
      "metadata": {
        "id": "edavmbH2SUFq"
      },
      "execution_count": null,
      "outputs": []
    },
    {
      "cell_type": "markdown",
      "source": [
        "### What all manipulations have you done and insights you found?"
      ],
      "metadata": {
        "id": "MSa1f5Uengrz"
      }
    },
    {
      "cell_type": "markdown",
      "source": [
        "205 of 249 (as of 2017) countries have reported terrorist activities at least once between 1970 and 2017"
      ],
      "metadata": {
        "id": "LbyXE7I1olp8"
      }
    },
    {
      "cell_type": "code",
      "source": [
        "terrirism_cols.region_txt.value_counts() # No of terrorist attacks in diffenent region"
      ],
      "metadata": {
        "id": "AXNCKwP_VaJO"
      },
      "execution_count": null,
      "outputs": []
    },
    {
      "cell_type": "markdown",
      "source": [
        "## ***4. Data Vizualization, Storytelling & Experimenting with charts : Understand the relationships between variables***"
      ],
      "metadata": {
        "id": "GF8Ens_Soomf"
      }
    },
    {
      "cell_type": "markdown",
      "source": [
        "#### Chart - 1"
      ],
      "metadata": {
        "id": "0wOQAZs5pc--"
      }
    },
    {
      "cell_type": "code",
      "source": [
        "# Chart - 1 visualization code\n",
        "plt.figure(figsize = (10,5))\n",
        "plt.bar(x=terrirism_cols.region_txt.value_counts().index,height = terrirism_cols.region_txt.value_counts().values)\n",
        "plt.title('Regionwise reported terrorist activities from 1970-2017')\n",
        "plt.xticks(rotation=90)\n",
        "\n",
        "plt.xlabel('Regions')\n",
        "plt.ylabel('No. of terrist activities')"
      ],
      "metadata": {
        "id": "7v_ESjsspbW7"
      },
      "execution_count": null,
      "outputs": []
    },
    {
      "cell_type": "markdown",
      "source": [
        "##### 1. Why did you pick the specific \n",
        "This verticle bar cahrt for fast data exploration and comparison of variable values between different groups and they allow the reader to recognize patterns \n",
        "or trends far more easily.\n",
        "\n"
      ],
      "metadata": {
        "id": "K5QZ13OEpz2H"
      }
    },
    {
      "cell_type": "markdown",
      "source": [
        "Answer Here."
      ],
      "metadata": {
        "id": "XESiWehPqBRc"
      }
    },
    {
      "cell_type": "markdown",
      "source": [
        "##### 2. What is/are the insight(s) found from the chart?"
      ],
      "metadata": {
        "id": "lQ7QKXXCp7Bj"
      }
    },
    {
      "cell_type": "markdown",
      "source": [
        "Regions that are most affected due to terrorist activities: Miidle east and \n",
        "North Africa and south Asis"
      ],
      "metadata": {
        "id": "C_j1G7yiqdRP"
      }
    },
    {
      "cell_type": "markdown",
      "source": [
        "##### 3. Will the gained insights help creating a positive business impact? \n",
        "Are there any insights that lead to negative growth? Justify with specific reason."
      ],
      "metadata": {
        "id": "448CDAPjqfQr"
      }
    },
    {
      "cell_type": "markdown",
      "source": [
        "Answer Here"
      ],
      "metadata": {
        "id": "3cspy4FjqxJW"
      }
    },
    {
      "cell_type": "markdown",
      "source": [
        "#### Chart - 2"
      ],
      "metadata": {
        "id": "KSlN3yHqYklG"
      }
    },
    {
      "cell_type": "code",
      "source": [
        "# Chart - 2 visualization code\n",
        "pd.crosstab(terrirism_cols.iyear,terrirism_cols.region_txt).plot(kind='area',figsize=(15,6))\n",
        "plt.title('Terrorist activities in each year in differnt regions ')\n",
        "plt.xlabel('Year')\n",
        "plt.ylabel('Attacks')\n",
        "plt.show()"
      ],
      "metadata": {
        "id": "R4YgtaqtYklH"
      },
      "execution_count": null,
      "outputs": []
    },
    {
      "cell_type": "markdown",
      "source": [
        "Correlation Analysis"
      ],
      "metadata": {
        "id": "Nd1GeREys-8Z"
      }
    },
    {
      "cell_type": "code",
      "source": [
        "# correlation analysis\n",
        "plt.figure(figsize=(7,10))\n",
        "sns.heatmap(np.round(terrirism_cols.corr(),2),annot=True,cmap='BuPu')"
      ],
      "metadata": {
        "id": "g2EaCPnrLzFT"
      },
      "execution_count": null,
      "outputs": []
    },
    {
      "cell_type": "markdown",
      "source": [
        "##### 1. Why did you pick the specific chart?"
      ],
      "metadata": {
        "id": "t6dVpIINYklI"
      }
    },
    {
      "cell_type": "markdown",
      "source": [
        "Area chart helps to visulize regions effictively and most commonly used to show trends , rather than convey specific values."
      ],
      "metadata": {
        "id": "5aaW0BYyYklI"
      }
    },
    {
      "cell_type": "markdown",
      "source": [
        "##### 2. What is/are the insight(s) found from the chart?"
      ],
      "metadata": {
        "id": "ijmpgYnKYklI"
      }
    },
    {
      "cell_type": "markdown",
      "source": [
        "In year 2000 to 2017 number attacks is rapidly increased. As shown in graph,\n",
        "after 2010 --> Middle east and North africa and South asia are to much affect.\n",
        "\n",
        "\n"
      ],
      "metadata": {
        "id": "PSx9atu2YklI"
      }
    },
    {
      "cell_type": "markdown",
      "source": [
        "##### 3. Will the gained insights help creating a positive business impact? \n",
        "Are there any insights that lead to negative growth? Justify with specific reason."
      ],
      "metadata": {
        "id": "-JiQyfWJYklI"
      }
    },
    {
      "cell_type": "markdown",
      "source": [
        "Answer Here"
      ],
      "metadata": {
        "id": "BcBbebzrYklV"
      }
    },
    {
      "cell_type": "markdown",
      "source": [
        "#### Chart - 3"
      ],
      "metadata": {
        "id": "EM7whBJCYoAo"
      }
    },
    {
      "cell_type": "code",
      "source": [
        "terrirism_cols.gname.value_counts().head(15)[1:]   "
      ],
      "metadata": {
        "id": "_RzvM_bNSXaJ"
      },
      "execution_count": null,
      "outputs": []
    },
    {
      "cell_type": "code",
      "source": [
        "# Chart - 3 visulize top 10 terrorist organization with highest terror attacks\n",
        "plt.figure(figsize=(8,8))\n",
        "sns.barplot(x=terrirism_cols.gname.value_counts().head(11)[1:].values,y=terrirism_cols.gname.value_counts().head(11)[1:].index ,palette='rocket')\n",
        "plt.title('Top 10 Terrorist Organization with Highest Terror Attacks',fontsize=15)\n",
        "plt.xticks(rotation=90)\n",
        "plt.xlabel('No. of Attacks',fontsize=15)\n",
        "plt.ylabel('Terrorist Organization',fontsize=15)\n",
        "plt.show()"
      ],
      "metadata": {
        "id": "t6GMdE67YoAp"
      },
      "execution_count": null,
      "outputs": []
    },
    {
      "cell_type": "markdown",
      "source": [
        "##### 1. Why did you pick the specific chart?"
      ],
      "metadata": {
        "id": "fge-S5ZAYoAp"
      }
    },
    {
      "cell_type": "markdown",
      "source": [
        "The benefit with a horizontal barchart is that the labels are easier to display\n",
        "sns bar cahet dipslay with different colors so it can be more easily visulize and interpret."
      ],
      "metadata": {
        "id": "5dBItgRVYoAp"
      }
    },
    {
      "cell_type": "markdown",
      "source": [
        "##### 2. What is/are the insight(s) found from the chart?"
      ],
      "metadata": {
        "id": "85gYPyotYoAp"
      }
    },
    {
      "cell_type": "markdown",
      "source": [
        "Taliban is carried out most of the terror attacks."
      ],
      "metadata": {
        "id": "4jstXR6OYoAp"
      }
    },
    {
      "cell_type": "markdown",
      "source": [
        "##### 3. Will the gained insights help creating a positive business impact? \n",
        "Are there any insights that lead to negative growth? Justify with specific reason."
      ],
      "metadata": {
        "id": "RoGjAbkUYoAp"
      }
    },
    {
      "cell_type": "markdown",
      "source": [
        "Answer Here"
      ],
      "metadata": {
        "id": "zfJ8IqMcYoAp"
      }
    },
    {
      "cell_type": "markdown",
      "source": [
        "#### Chart - 4"
      ],
      "metadata": {
        "id": "4Of9eVA-YrdM"
      }
    },
    {
      "cell_type": "code",
      "source": [
        "# Chart - 4 visualization of target killing\n",
        "terrirism_cols.columns\n",
        "data = terrirism_cols.target2.value_counts().head(6)[1:]   \n",
        "label_for_target = ['Soldiers','Civilian','Members','Officers','Others']\n",
        "# plt.axis(\"equal\")\n",
        "plt.pie(data, labels = label_for_target,radius=1.2,autopct='%0.2f%%',shadow=True)\n",
        "plt.legend(loc='center',shadow=True,fancybox=True)\n",
        "plt.show() "
      ],
      "metadata": {
        "id": "irlUoxc8YrdO"
      },
      "execution_count": null,
      "outputs": []
    },
    {
      "cell_type": "markdown",
      "source": [
        "##### 1. Why did you pick the specific chart?"
      ],
      "metadata": {
        "id": "iky9q4vBYrdO"
      }
    },
    {
      "cell_type": "markdown",
      "source": [
        "comparitive charts are really easy to understand for humans and data visulization and interppretation is esay."
      ],
      "metadata": {
        "id": "aJRCwT6DYrdO"
      }
    },
    {
      "cell_type": "markdown",
      "source": [
        "##### 2. What is/are the insight(s) found from the chart?"
      ],
      "metadata": {
        "id": "F6T5p64dYrdO"
      }
    },
    {
      "cell_type": "markdown",
      "source": [
        "Soldiers are most affected by terrorist"
      ],
      "metadata": {
        "id": "Xx8WAJvtYrdO"
      }
    },
    {
      "cell_type": "markdown",
      "source": [
        "##### 3. Will the gained insights help creating a positive business impact? \n",
        "Are there any insights that lead to negative growth? Justify with specific reason."
      ],
      "metadata": {
        "id": "y-Ehk30pYrdP"
      }
    },
    {
      "cell_type": "markdown",
      "source": [
        "Answer Here"
      ],
      "metadata": {
        "id": "jLNxxz7MYrdP"
      }
    },
    {
      "cell_type": "markdown",
      "source": [
        "#### Chart - 5"
      ],
      "metadata": {
        "id": "bamQiAODYuh1"
      }
    },
    {
      "cell_type": "code",
      "source": [
        "# Chart - 5 visualization of deaths in different years\n",
        "plt.figure(figsize=(7,9))\n",
        "terrirism_cols.groupby(['iyear'])['nkill'].sum().plot(kind='bar',colormap=\"summer\")\n",
        "plt.title(\"Number of deaths in different years\")\n",
        "plt.xlabel('Year')\n",
        "plt.ylabel('No.of deaths')\n",
        "plt.xticks(rotation=90)\n",
        "plt.show()\n",
        "\n"
      ],
      "metadata": {
        "id": "TIJwrbroYuh3"
      },
      "execution_count": null,
      "outputs": []
    },
    {
      "cell_type": "markdown",
      "source": [
        "##### 1. Why did you pick the specific chart?"
      ],
      "metadata": {
        "id": "QHF8YVU7Yuh3"
      }
    },
    {
      "cell_type": "markdown",
      "source": [
        "I choose this graph because , i need to comapre total number of death and year."
      ],
      "metadata": {
        "id": "dcxuIMRPYuh3"
      }
    },
    {
      "cell_type": "markdown",
      "source": [
        "##### 2. What is/are the insight(s) found from the chart?"
      ],
      "metadata": {
        "id": "GwzvFGzlYuh3"
      }
    },
    {
      "cell_type": "markdown",
      "source": [
        "Number of deaths by terrorism is more between 2014 to 2016, with on average > 50k people being killed . High peak to 2014 with 45k+ deaths. "
      ],
      "metadata": {
        "id": "uyqkiB8YYuh3"
      }
    },
    {
      "cell_type": "markdown",
      "source": [
        "##### 3. Will the gained insights help creating a positive business impact? \n",
        "Are there any insights that lead to negative growth? Justify with specific reason."
      ],
      "metadata": {
        "id": "qYpmQ266Yuh3"
      }
    },
    {
      "cell_type": "markdown",
      "source": [
        "Terrorist attacks are increasing day by day and anti terrorist organization should take a look on it."
      ],
      "metadata": {
        "id": "_WtzZ_hCYuh4"
      }
    },
    {
      "cell_type": "markdown",
      "source": [
        "#### Chart - 6"
      ],
      "metadata": {
        "id": "OH-pJp9IphqM"
      }
    },
    {
      "cell_type": "code",
      "source": [
        "# Chart - 6 visualization of wounded people in different regions\n",
        "plt.figure(figsize=(7,7))\n",
        "terrirism_cols.groupby(['region_txt'])['nwound'].sum().sort_values(ascending=False).plot(kind='bar',colormap=\"rocket\")\n",
        "plt.title(\"Region having wounded people\",fontsize=15)\n",
        "plt.xlabel('Region',fontsize=15)\n",
        "plt.ylabel('No.of wounded',fontsize=15)\n",
        "plt.xticks(rotation=90)\n",
        "plt.show()\n",
        "\n",
        "\n",
        "\n",
        "\n"
      ],
      "metadata": {
        "id": "kuRf4wtuphqN"
      },
      "execution_count": null,
      "outputs": []
    },
    {
      "cell_type": "markdown",
      "source": [
        "##### 1. Why did you pick the specific chart?"
      ],
      "metadata": {
        "id": "bbFf2-_FphqN"
      }
    },
    {
      "cell_type": "markdown",
      "source": [
        "This chart is esay to understand and esay to interrept the data and visullay quite good."
      ],
      "metadata": {
        "id": "loh7H2nzphqN"
      }
    },
    {
      "cell_type": "markdown",
      "source": [
        "##### 2. What is/are the insight(s) found from the chart?"
      ],
      "metadata": {
        "id": "_ouA3fa0phqN"
      }
    },
    {
      "cell_type": "markdown",
      "source": [
        "Wounded people in Middle east & North africa and South asia is highest and more than 1LAKH 50K+ people is wounded in this region\n",
        "\n"
      ],
      "metadata": {
        "id": "VECbqPI7phqN"
      }
    },
    {
      "cell_type": "markdown",
      "source": [
        "##### 3. Will the gained insights help creating a positive business impact? \n",
        "Are there any insights that lead to negative growth? Justify with specific reason."
      ],
      "metadata": {
        "id": "Seke61FWphqN"
      }
    },
    {
      "cell_type": "markdown",
      "source": [
        "Answer Here"
      ],
      "metadata": {
        "id": "DW4_bGpfphqN"
      }
    },
    {
      "cell_type": "markdown",
      "source": [
        "#### Chart - 7"
      ],
      "metadata": {
        "id": "PIIx-8_IphqN"
      }
    },
    {
      "cell_type": "code",
      "source": [
        "# visulization of no.of people killed in different countries\n",
        "plt.figure(figsize=(7,7))\n",
        "terrirism_cols.groupby(['country_txt'])['nkill'].sum().sort_values(ascending=False).head(10).plot(kind='bar',colormap='viridis')\n",
        "plt.title(\"Country having killed people\",fontsize=15)\n",
        "plt.xlabel('Country',fontsize=15)\n",
        "plt.ylabel('No. of Killed',fontsize=15)\n",
        "plt.xticks(rotation=90)\n",
        "plt.show()\n"
      ],
      "metadata": {
        "id": "lqAIGUfyphqO"
      },
      "execution_count": null,
      "outputs": []
    },
    {
      "cell_type": "markdown",
      "source": [
        "##### 1. Why did you pick the specific chart?"
      ],
      "metadata": {
        "id": "t27r6nlMphqO"
      }
    },
    {
      "cell_type": "markdown",
      "source": [
        "Efficently visulize No.of killed people in diffeent countries."
      ],
      "metadata": {
        "id": "iv6ro40sphqO"
      }
    },
    {
      "cell_type": "markdown",
      "source": [
        "##### 2. What is/are the insight(s) found from the chart?"
      ],
      "metadata": {
        "id": "r2jJGEOYphqO"
      }
    },
    {
      "cell_type": "markdown",
      "source": [
        "In iraq highest number of killed."
      ],
      "metadata": {
        "id": "Po6ZPi4hphqO"
      }
    },
    {
      "cell_type": "markdown",
      "source": [
        "##### 3. Will the gained insights help creating a positive business impact? \n",
        "Are there any insights that lead to negative growth? Justify with specific reason."
      ],
      "metadata": {
        "id": "b0JNsNcRphqO"
      }
    },
    {
      "cell_type": "markdown",
      "source": [
        "Answer Here"
      ],
      "metadata": {
        "id": "xvSq8iUTphqO"
      }
    },
    {
      "cell_type": "markdown",
      "source": [
        "#### Chart - 8"
      ],
      "metadata": {
        "id": "BZR9WyysphqO"
      }
    },
    {
      "cell_type": "code",
      "source": [
        "# Chart - 8 visualization no.of people killed by taliban over the different year\n",
        "terr_df_tal = terrirism_cols[terrirism_cols.gname=='Taliban']\n",
        "plt.figure(figsize=(7,7))\n",
        "terr_df_tal.groupby(['iyear'])['nkill'].sum().plot(kind='bar',colormap='RdBu')\n",
        "plt.title('People killed by taliban over the year',fontsize=15)\n",
        "plt.xlabel('Years',fontsize=15)\n",
        "plt.ylabel('No.of people killed',fontsize=15)\n",
        "plt.xticks(rotation=90)\n",
        "plt.grid()\n",
        "plt.show()\n",
        "\n",
        "\n",
        "\n",
        "\n",
        "\n",
        "\n"
      ],
      "metadata": {
        "id": "TdPTWpAVphqO"
      },
      "execution_count": null,
      "outputs": []
    },
    {
      "cell_type": "markdown",
      "source": [
        "##### 1. Why did you pick the specific chart?"
      ],
      "metadata": {
        "id": "jj7wYXLtphqO"
      }
    },
    {
      "cell_type": "markdown",
      "source": [
        "This grpahs shows number of people killed by taliban over the year."
      ],
      "metadata": {
        "id": "Ob8u6rCTphqO"
      }
    },
    {
      "cell_type": "markdown",
      "source": [
        "##### 2. What is/are the insight(s) found from the chart?"
      ],
      "metadata": {
        "id": "eZrbJ2SmphqO"
      }
    },
    {
      "cell_type": "markdown",
      "source": [
        "Taliban killed more than 5k people during 2015 that a decresing trend could be seen but still number is very high.\n",
        "After 2006 taliban are more activated."
      ],
      "metadata": {
        "id": "mZtgC_hjphqO"
      }
    },
    {
      "cell_type": "markdown",
      "source": [
        "##### 3. Will the gained insights help creating a positive business impact? \n",
        "Are there any insights that lead to negative growth? Justify with specific reason."
      ],
      "metadata": {
        "id": "rFu4xreNphqO"
      }
    },
    {
      "cell_type": "markdown",
      "source": [
        "Answer Here"
      ],
      "metadata": {
        "id": "ey_0qi68phqO"
      }
    },
    {
      "cell_type": "markdown",
      "source": [
        "#### Chart - 9"
      ],
      "metadata": {
        "id": "YJ55k-q6phqO"
      }
    },
    {
      "cell_type": "code",
      "source": [
        "#visulization of no.of people killed in india over different years\n",
        "terr_df_ind = terrirism_cols[terrirism_cols.country_txt=='India']\n",
        "plt.figure(figsize=(7,7))\n",
        "terr_df_ind.groupby(['iyear'])['nkill'].sum().plot(kind='bar',colormap='winter')\n",
        "plt.title('People killed in india over the year',fontsize=15)\n",
        "plt.xlabel('Years',fontsize=15)\n",
        "plt.ylabel('No. of people killed',fontsize=15)\n",
        "plt.xticks(rotation=90)\n",
        "plt.grid()\n",
        "plt.show()\n"
      ],
      "metadata": {
        "id": "B2aS4O1ophqO"
      },
      "execution_count": null,
      "outputs": []
    },
    {
      "cell_type": "markdown",
      "source": [
        "Easily visulize and understand the number of people killed by terrorist in different year in india"
      ],
      "metadata": {
        "id": "TVxDimi2phqP"
      }
    },
    {
      "cell_type": "markdown",
      "source": [
        "##### 2. What is/are the insight(s) found from the chart?"
      ],
      "metadata": {
        "id": "OVtJsKN_phqQ"
      }
    },
    {
      "cell_type": "markdown",
      "source": [
        "In 1992, terrorist killed around 1k+ people in india."
      ],
      "metadata": {
        "id": "ngGi97qjphqQ"
      }
    },
    {
      "cell_type": "markdown",
      "source": [
        "##### 3. Will the gained insights help creating a positive business impact? \n",
        "Are there any insights that lead to negative growth? Justify with specific reason."
      ],
      "metadata": {
        "id": "lssrdh5qphqQ"
      }
    },
    {
      "cell_type": "markdown",
      "source": [
        "Answer Here"
      ],
      "metadata": {
        "id": "tBpY5ekJphqQ"
      }
    },
    {
      "cell_type": "markdown",
      "source": [
        "#### Chart - 10"
      ],
      "metadata": {
        "id": "U2RJ9gkRphqQ"
      }
    },
    {
      "cell_type": "code",
      "source": [
        "# Chart - 10 visualization of no.of people killed by weaponsubtype2\n",
        "\n",
        "weapon_kill_info= terr_df_ind.groupby(['weapsubtype2_txt'])['nkill'].sum().head(10)\n",
        "\n",
        "label_for_weapon = weapon_kill_info.index.tolist()\n",
        "data1 = weapon_kill_info.values  \n",
        "plt.figure(figsize=(6,6))\n",
        "# # label_for_target = ['Soldiers','Civilian','Members','Officers','Others']\n",
        "plt.axis(\"equal\")\n",
        "plt.pie(data1, labels = label_for_weapon,radius=2.5,autopct='%0.2f%%',shadow=True,textprops={'fontsize': 14})\n",
        "plt.legend(loc='center',shadow=True,fancybox=True)"
      ],
      "metadata": {
        "id": "GM7a4YP4phqQ"
      },
      "execution_count": null,
      "outputs": []
    },
    {
      "cell_type": "markdown",
      "source": [
        "##### 1. Why did you pick the specific chart?"
      ],
      "metadata": {
        "id": "1M8mcRywphqQ"
      }
    },
    {
      "cell_type": "markdown",
      "source": [
        "This pie chart , hepls to understand which type of most freuqently weapon is used to kill people."
      ],
      "metadata": {
        "id": "8agQvks0phqQ"
      }
    },
    {
      "cell_type": "markdown",
      "source": [
        "##### 2. What is/are the insight(s) found from the chart?"
      ],
      "metadata": {
        "id": "tgIPom80phqQ"
      }
    },
    {
      "cell_type": "markdown",
      "source": [
        "From this graph , we analyze that 32.30 % indian peoples kills by semi-automatic rifile weapon."
      ],
      "metadata": {
        "id": "Qp13pnNzphqQ"
      }
    },
    {
      "cell_type": "markdown",
      "source": [
        "##### 3. Will the gained insights help creating a positive business impact? \n",
        "Are there any insights that lead to negative growth? Justify with specific reason."
      ],
      "metadata": {
        "id": "JMzcOPDDphqR"
      }
    },
    {
      "cell_type": "markdown",
      "source": [
        "Govt. gives attention and necessary action towards rifile making companies , who delivers the this type of weapons to the terrorist organization."
      ],
      "metadata": {
        "id": "R4Ka1PC2phqR"
      }
    },
    {
      "cell_type": "markdown",
      "source": [
        "#### Chart - 11"
      ],
      "metadata": {
        "id": "x-EpHcCOp1ci"
      }
    },
    {
      "cell_type": "code",
      "source": [
        "# Chart - 11 visualization code\n",
        "plt.subplot(1,2,1)\n",
        "terr_df_2017 = terrirism_cols[terrirism_cols.iyear==2017]\n",
        "x1 = terr_df_2017['region_txt'].value_counts().index\n",
        "y1 = terr_df_2017['region_txt'].value_counts().values\n",
        "plt.bar(x1,y1,color='red')\n",
        "# sns.barplot(x1,y1,palette='magma')\n",
        "# plt.plot(terr_df_2017['region_txt'].value_counts().index,terr_df_2017['region_txt'].value_counts().values)\n",
        "plt.title('Most Attacked Region in 2017',fontsize=15)\n",
        "plt.xlabel('Regions',fontsize=15)\n",
        "plt.ylabel('Attacks',fontsize=15)\n",
        "plt.xticks(rotation=90)\n",
        "\n",
        "\n",
        "# top 10 countries that were attcked most in 2017\n",
        "plt.subplot(1,2,2)\n",
        "terr_df_2017 = terrirism_cols[terrirism_cols.iyear==2017]\n",
        "x2=terr_df_2017['country_txt'].value_counts().head(10).index\n",
        "y2=terr_df_2017['country_txt'].value_counts().head(10).values\n",
        "plt.bar(x2,y2,color='blue')\n",
        "plt.title('Most Attacked Country in 2017',fontsize=15)\n",
        "plt.xlabel('Country',fontsize=15)\n",
        "plt.ylabel('Attacks',fontsize=15)\n",
        "plt.xticks(rotation=90)\n",
        "plt.gcf().set_size_inches(15,5)\n",
        "\n"
      ],
      "metadata": {
        "id": "mAQTIvtqp1cj"
      },
      "execution_count": null,
      "outputs": []
    },
    {
      "cell_type": "markdown",
      "source": [
        "##### 1. Why did you pick the specific chart?"
      ],
      "metadata": {
        "id": "X_VqEhTip1ck"
      }
    },
    {
      "cell_type": "markdown",
      "source": [
        "Becasuse,effictively visulize the number of attcks in different counries and region in 2017"
      ],
      "metadata": {
        "id": "-vsMzt_np1ck"
      }
    },
    {
      "cell_type": "markdown",
      "source": [
        "##### 2. What is/are the insight(s) found from the chart?"
      ],
      "metadata": {
        "id": "8zGJKyg5p1ck"
      }
    },
    {
      "cell_type": "markdown",
      "source": [
        "In 2017 Iraq was most affected by terrorist activities\n",
        "\n",
        "Middle east & north africa and south asia was most affected among the top affected regions in 2017."
      ],
      "metadata": {
        "id": "ZYdMsrqVp1ck"
      }
    },
    {
      "cell_type": "markdown",
      "source": [
        "##### 3. Will the gained insights help creating a positive business impact? \n",
        "Are there any insights that lead to negative growth? Justify with specific reason."
      ],
      "metadata": {
        "id": "PVzmfK_Ep1ck"
      }
    },
    {
      "cell_type": "markdown",
      "source": [
        "Yes, those region or city which have a highest terrorist activity in which, no more companies invest their money .so economically this regions or cities will going backward. This type of attacks stop their overall development."
      ],
      "metadata": {
        "id": "druuKYZpp1ck"
      }
    },
    {
      "cell_type": "markdown",
      "source": [
        "# **Conclusion**"
      ],
      "metadata": {
        "id": "gCX9965dhzqZ"
      }
    },
    {
      "cell_type": "markdown",
      "source": [
        "\n",
        "--> Middle east and north africa was most affected among the top affected region.Most of thr people in this region were either wounded or killed.\n",
        "\n",
        "-->In year 2000 to 2017 number attacks is rapidly increased\n",
        "\n",
        "-->Taliban became more active since 2013 to 2015 ,they are responsible for the most of terror attacks.\n",
        "\n",
        "--> Soldiers and civilians are most affected by terror attack\n",
        "\n",
        "-->Number of deaths due to terror attack was more between 2014 to 2016, with on average > 50k people being killed . High peak to 2014 with 45k+ deaths.\n",
        "\n",
        "\n",
        "-->Between 1991 and 1992 India was highly affected by terriorist and large number of deaths was occured betwwen this two years\n",
        "\n",
        "--> Between 2015 to 2017 Taliban killed highest number of peoples around 5K+\n",
        "\n",
        "--> After 2006 taliban are more activated.\n",
        "\n",
        "--> The most common attck type in india was semi- automatic rifle.\n",
        "32% people is killed with the help of this rifles\n",
        "\n",
        "--> In iraq highest number of people killed.\n",
        "\n",
        "--> In 2017 Iraq was most affected by terrorist activities\n",
        "\n",
        "-->Middle east & north africa and south asia was most affected among the top affected regions in 2017."
      ],
      "metadata": {
        "id": "Fjb1IsQkh3yE"
      }
    },
    {
      "cell_type": "markdown",
      "source": [
        "### ***Hurrah! You have successfully completed your EDA Capstone Project !!!***"
      ],
      "metadata": {
        "id": "gIfDvo9L0UH2"
      }
    }
  ]
}